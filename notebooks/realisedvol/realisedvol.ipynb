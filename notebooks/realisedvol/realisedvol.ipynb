{
 "cells": [
  {
   "cell_type": "markdown",
   "metadata": {},
   "source": [
    "# Exploring volatility & streaming price action"
   ]
  },
  {
   "cell_type": "markdown",
   "metadata": {},
   "source": [
    "### By Saeed Amen (@thalesians) - Managing Director & Co-founder of the Thalesians"
   ]
  },
  {
   "cell_type": "markdown",
   "metadata": {},
   "source": [
    "There are many methods to measure risk. Volatility is one of these measures. In this study, we seek to understand how volatility behaves! We shall examine how sampling frequency impacts volatility measurements for EUR/USD using intraday data. Does measuring volatility using 5 minute data change the result compared to using 60 minute data? Also how do realised and implied volatility differ historically for S&P500? Lastly, we shall be demonstrating how to do a streaming data plot of EUR/USD.\n",
    "\n",
    "We shall be using Python, together with Plotly for plotting. Plotly is a free web-based platform for making graphs. You can keep graphs private, make them public, and run Plotly on your [Plotly Enterprise on your own servers](https://plot.ly/product/enterprise/). You can find more details [here](https://plot.ly/python/getting-started/).\n",
    "\n",
    "We shall be using market data from Bloomberg (using Brian Smith's TIA wrapper) and Yahoo. We have also written the code to allow importation of market data from CSV files (for example if you've like to use intraday data from an FX broker). For more information on how to access Bloomberg via Python, please take a look at [this](https://plot.ly/ipython-notebooks/ukelectionbbg/), where I discussed how to use Bloomberg data to do an event study for price action around UK general elections. I have reused some of the code from that earlier project and also added a few extra features to some of that code. I have written this code for Python 2.7, although, much of it should work without too much modification if you are running Python 3.4+."
   ]
  },
  {
   "cell_type": "markdown",
   "metadata": {},
   "source": [
    "### Python scripts"
   ]
  },
  {
   "cell_type": "markdown",
   "metadata": {
    "collapsed": true
   },
   "source": [
    "* bbg_com - low level interaction with BBG COM object, which we've adapted (which we are simply calling from Brian Smith's TIA project)\n",
    "* datadownloader - wrapper for BBG COM, Quandl, Yahoo and CSV access to data\n",
    "* plothelper - reusuable functions for interacting with Plotly\n",
    "* volstudy - computations to analysis realised volatility\n",
    "* streamingfxstudy - doing live plotting of market prices"
   ]
  },
  {
   "cell_type": "markdown",
   "metadata": {},
   "source": [
    "### Downloading the market data"
   ]
  },
  {
   "cell_type": "markdown",
   "metadata": {},
   "source": [
    "We create the DataDownloader class, which acts a wrapper for various market data sources. The idea is to decouple the precise vendor implementations with our higher level code. For live quotes we use \"download_live_quote\" with Yahoo support."
   ]
  },
  {
   "cell_type": "code",
   "execution_count": 1,
   "metadata": {
    "collapsed": true
   },
   "outputs": [],
   "source": [
    "# for time series manipulation\n",
    "import pandas\n",
    "import pandas.io.data as web\n",
    "\n",
    "import datetime\n",
    "\n",
    "class DataDownloader:\n",
    "    def download_live_quote(self, vendor_ticker, source):\n",
    "        if source == 'Yahoo':\n",
    "            from urllib2 import urlopen\n",
    "            response = urlopen('http://finance.yahoo.com/d/quotes.csv?s=' + vendor_ticker + '&f=sl1d1t1c1ohgv&e=.csv')\n",
    "            html = response.read()\n",
    "\n",
    "            split = html.split(\",\")\n",
    "\n",
    "            price = split[1]\n",
    "\n",
    "        return price"
   ]
  },
  {
   "cell_type": "markdown",
   "metadata": {},
   "source": [
    "Next, we write code to download historic market data. For daily historic data we use \"download_time_series\" which has support for Bloomberg, Quandl, Yahoo and CSV data sources. For intraday historic data, Bloomberg and CSV data sources are implemented. Obviously, if your CSV files have different date formats, you can edit the date formatter code below."
   ]
  },
  {
   "cell_type": "code",
   "execution_count": 2,
   "metadata": {
    "collapsed": false
   },
   "outputs": [],
   "source": [
    "    def download_time_series(self, vendor_ticker, pretty_ticker, start_date, source, csv_file = None,\n",
    "                             freq = 'daily', freq_no = 1):\n",
    "        if not(isinstance(start_date, list)):\n",
    "            start_date = [start_date]\n",
    "\n",
    "        if freq == 'daily':\n",
    "            if source == 'Quandl':\n",
    "                import Quandl\n",
    "                # Quandl requires API key for large number of daily downloads\n",
    "                # https://www.quandl.com/help/api\n",
    "                spot = Quandl.get(vendor_ticker)\n",
    "                spot = pandas.DataFrame(data = spot['Value'], index = spot.index)\n",
    "                spot.columns = [pretty_ticker]\n",
    "            elif source == 'Yahoo':\n",
    "                finish_date = datetime.datetime.utcnow()\n",
    "                finish_date = datetime.datetime(finish_date.year, finish_date.month, finish_date.day, 0, 0, 0)\n",
    "\n",
    "                spot = web.DataReader(vendor_ticker, 'yahoo', start_date[0], finish_date)\n",
    "                spot = pandas.DataFrame(data = spot['Close'].values, index = spot.index, columns = [pretty_ticker])\n",
    "\n",
    "                spot.index = pandas.DatetimeIndex(spot.index)\n",
    "\n",
    "            elif source == 'Bloomberg':\n",
    "                from egthalesians.plotly.helper.bbg_com import HistoricalDataRequest\n",
    "                req = HistoricalDataRequest([vendor_ticker], ['PX_LAST'], start = start_date[0])\n",
    "                req.execute()\n",
    "\n",
    "                spot = req.response_as_single()\n",
    "                spot.columns = [pretty_ticker]\n",
    "            elif source == 'CSV':\n",
    "                dateparse = lambda x: pandas.datetime.strptime(x, '%Y-%m-%d')\n",
    "\n",
    "                # in case you want to use a source other than Bloomberg/Quandl\n",
    "                spot = pandas.read_csv(csv_file, index_col=0, parse_dates=0, date_parser=dateparse)\n",
    "\n",
    "        elif freq == 'intraday':\n",
    "            if source == 'Bloomberg':\n",
    "                from bbg_com import IntrdayBarRequest\n",
    "                req = IntrdayBarRequest(vendor_ticker, freq_no, start = start_date[0])\n",
    "\n",
    "                req.execute()\n",
    "\n",
    "                spot = req.response\n",
    "                spot.columns = [pretty_ticker + '.' + x for x in spot.columns]\n",
    "\n",
    "                spot = pandas.DataFrame(data = spot[pretty_ticker + \".close\"].values,\n",
    "                                        index = spot.index, columns = [pretty_ticker + \".close\"])\n",
    "\n",
    "            elif source == 'CSV':\n",
    "                dateparse = lambda x: pandas.datetime.strptime(x, '%Y-%m-%d %H:%M:%S')\n",
    "\n",
    "                # in case you want to use a source other than Bloomberg/Quandl etc\n",
    "                try:\n",
    "                    spot = pandas.read_csv(csv_file, index_col = 0, parse_dates = 0, date_parser = dateparse)\n",
    "                except:\n",
    "                    dateparse = lambda x: pandas.datetime.strptime(x, '%d/%m/%Y %H:%M:%S')\n",
    "                    spot = pandas.read_csv(csv_file, index_col = 0, parse_dates = 0, date_parser = dateparse)\n",
    "\n",
    "        return spot\n",
    "    \n",
    "    DataDownloader.download_time_series = download_time_series"
   ]
  },
  {
   "cell_type": "markdown",
   "metadata": {},
   "source": [
    "Next we create the PlotHelper class, which deals with all the interaction with Plotly, assuming our input data is in Pandas dataframes. Alternatively, we could have used Jorge Santos' very convenient [Cufflinks library](https://github.com/santosjorge/cufflinks) which makes it easy to plot Pandas dataframes in Plotly. As a first step, we create a simple function to parse dates, which will be useful later on when it comes to defining start dates for our historical data downloads."
   ]
  },
  {
   "cell_type": "code",
   "execution_count": 3,
   "metadata": {
    "collapsed": true
   },
   "outputs": [],
   "source": [
    "# for dates\n",
    "import datetime\n",
    "\n",
    "# for plotting data\n",
    "import plotly\n",
    "from plotly.graph_objs import *\n",
    "\n",
    "class PlotHelper:\n",
    "    def parse_dates(self, str_dates):\n",
    "        # parse_dates - parses string dates into Python format\n",
    "        #\n",
    "        # str_dates = dates to be parsed in the format of day/month/year\n",
    "        #\n",
    "\n",
    "        dates = []\n",
    "\n",
    "        for d in str_dates:\n",
    "            dates.append(datetime.datetime.strptime(d, '%d/%m/%Y'))\n",
    "\n",
    "        return dates"
   ]
  },
  {
   "cell_type": "markdown",
   "metadata": {},
   "source": [
    "Our next function converts Pandas dataframes into Traces, which can be plotted by Plotly. We also have several parameters to control the way the plot will look, such as being able to specify whether or not to display a legend, the colors of the lines, the width of lines, whether to add markers etc. We utilise the ColorLover library to create graduated palettes. This is by no means an exhaustive list of the properties we can set on Plotly, but should make our plots a bit more exciting."
   ]
  },
  {
   "cell_type": "code",
   "execution_count": 4,
   "metadata": {
    "collapsed": false
   },
   "outputs": [],
   "source": [
    "    def convert_df_plotly(self, dataframe, axis_no = 1, color_def = ['default'],\n",
    "                          special_line = 'Mean', showlegend = True, addmarker = False, gradcolor = None):\n",
    "        # convert_df_plotly - converts a Pandas data frame to Plotly format for line plots\n",
    "        # dataframe = data frame due to be converted\n",
    "        # axis_no = axis for plot to be drawn (default = 1)\n",
    "        # special_line = make lines named this extra thick\n",
    "        # color_def = color scheme to be used (default = ['default']), colour will alternate in the list\n",
    "        # showlegend = True or False to show legend of this line on plot\n",
    "        # addmarker = True or False to add markers\n",
    "        # gradcolor = Create a graduated color scheme for the lines\n",
    "        #\n",
    "        # Also see http://nbviewer.ipython.org/gist/nipunreddevil/7734529 for converting dataframe to traces\n",
    "        # Also see http://moderndata.plot.ly/color-scales-in-ipython-notebook/\n",
    "\n",
    "        x = dataframe.index\n",
    "\n",
    "        traces = []\n",
    "\n",
    "        # will be used for market opacity for the markers\n",
    "        increments = 0.95 / float(len(dataframe.columns))\n",
    "\n",
    "        if gradcolor is not None:\n",
    "            try:\n",
    "                import colorlover as cl\n",
    "                color_def = cl.scales[str(len(dataframe.columns))]['seq'][gradcolor]\n",
    "            except:\n",
    "                print('Check colorlover installation...')\n",
    "\n",
    "        i = 0\n",
    "\n",
    "        for key in dataframe:\n",
    "            scatter = plotly.graph_objs.Scatter(\n",
    "                        x = x,\n",
    "                        y = dataframe[key].values,\n",
    "                        name = key,\n",
    "                        xaxis = 'x' + str(axis_no),\n",
    "                        yaxis = 'y' + str(axis_no),\n",
    "                        showlegend = showlegend)\n",
    "\n",
    "            # only apply color/marker properties if not \"default\"\n",
    "            if color_def[i % len(color_def)] != \"default\":\n",
    "                if special_line in str(key):\n",
    "                    # special case for lines labelled \"mean\"\n",
    "                    # make line thicker\n",
    "                    scatter['mode'] = 'lines'\n",
    "                    scatter['line'] = plotly.graph_objs.Line(\n",
    "                                color = color_def[i % len(color_def)],\n",
    "                                width = 2\n",
    "                            )\n",
    "\n",
    "                else:\n",
    "                    line_width = 1\n",
    "\n",
    "                    # set properties for the markers which change opacity\n",
    "                    # for markers make lines thinner\n",
    "                    if addmarker:\n",
    "                        opacity = 0.05 + (increments * i);\n",
    "                        scatter['mode'] = 'markers+lines'\n",
    "                        scatter['marker'] = plotly.graph_objs.Marker(\n",
    "                                    color=color_def[i % len(color_def)],  # marker color\n",
    "                                    opacity = opacity,\n",
    "                                    size = 5)\n",
    "                        line_width = 0.2\n",
    "\n",
    "                    else:\n",
    "                        scatter['mode'] = 'lines'\n",
    "\n",
    "                    scatter['line'] = plotly.graph_objs.Line(\n",
    "                            color = color_def[i % len(color_def)],\n",
    "                            width = line_width)\n",
    "\n",
    "                i = i + 1\n",
    "\n",
    "            traces.append(scatter)\n",
    "\n",
    "        return traces\n",
    "    \n",
    "    PlotHelper.convert_df_plotly = convert_df_plotly"
   ]
  },
  {
   "cell_type": "markdown",
   "metadata": {},
   "source": [
    "The \"create_layout\" function controls the overall layout of our plot and properties such as axes labels and the size of the overall plot."
   ]
  },
  {
   "cell_type": "code",
   "execution_count": 5,
   "metadata": {
    "collapsed": false
   },
   "outputs": [],
   "source": [
    "    def create_layout(self, title, xaxis, yaxis, width = -1, height = -1):\n",
    "        # create_layout - populates a layout object\n",
    "        # title = title of the plot\n",
    "        # xaxis = xaxis label\n",
    "        # yaxis = yaxis label\n",
    "        # width (optional) = width of plot\n",
    "        # height (optional) = height of plot\n",
    "        #\n",
    "\n",
    "        layout = Layout(\n",
    "                    title = title,\n",
    "                    xaxis = plotly.graph_objs.XAxis(\n",
    "                        title = xaxis,\n",
    "                        showgrid = False\n",
    "                ),\n",
    "                    yaxis = plotly.graph_objs.YAxis(\n",
    "                        title= yaxis,\n",
    "                        showline = False\n",
    "                )\n",
    "            )\n",
    "\n",
    "        if width > 0 and height > 0:\n",
    "            layout['width'] = width\n",
    "            layout['height'] = height\n",
    "\n",
    "        return layout\n",
    "    \n",
    "    PlotHelper.create_layout = create_layout"
   ]
  },
  {
   "cell_type": "markdown",
   "metadata": {},
   "source": [
    "### Volatility study"
   ]
  },
  {
   "cell_type": "markdown",
   "metadata": {},
   "source": [
    "#### How does changing the sampling frequency affect realised volatility?"
   ]
  },
  {
   "cell_type": "markdown",
   "metadata": {},
   "source": [
    "We have now written the functions for getting market data and also some helper functions when it comes to generating Plotly charts. Here, we shall do our computations to generate the actual data to plot. We first need set our Plotly username and API key."
   ]
  },
  {
   "cell_type": "code",
   "execution_count": 6,
   "metadata": {
    "collapsed": true
   },
   "outputs": [],
   "source": [
    "# for time series/maths\n",
    "import pandas\n",
    "import math\n",
    "import datetime\n",
    "from datetime import timedelta\n",
    "\n",
    "# for plotting data\n",
    "import plotly\n",
    "import plotly.plotly as py\n",
    "from plotly.graph_objs import *\n",
    "\n",
    "postfix = \"prod\" # what to put at the end of the Plotly URL\n",
    "\n",
    "def vol_study():\n",
    "    # Learn about API authentication here: https://plot.ly/python/getting-started\n",
    "    # Find your api_key here: https://plot.ly/settings/api\n",
    "    plotly_username = \"thalesians\"\n",
    "    plotly_api_key = \"8f18dbgilh\"\n",
    "\n",
    "    plotly.tools.set_credentials_file(username = plotly_username, api_key = plotly_api_key)"
   ]
  },
  {
   "cell_type": "markdown",
   "metadata": {},
   "source": [
    "The next step is to download our market data, using the DataDownloader class. We can either use Bloomberg or a CSV file (simply comment out the data source you are not using). Our aim is to download a few months of EUR/USD 1 minute data."
   ]
  },
  {
   "cell_type": "code",
   "execution_count": 7,
   "metadata": {
    "collapsed": false
   },
   "outputs": [],
   "source": [
    "    ticker = 'EURUSD' # will use in plot titles later (and for creating Plotly URL)\n",
    "\n",
    "    ##### Download intraday EUR/USD data from Bloomberg or CSV file\n",
    "    source = \"Bloomberg\"\n",
    "    source = \"CSV\"\n",
    "\n",
    "    csv_file = None\n",
    "\n",
    "    plot_helper = PlotHelper()\n",
    "\n",
    "    data_downloader = DataDownloader()\n",
    "    start_date = datetime.datetime.utcnow() - timedelta(days = 120)\n",
    "    freq = 'intraday'\n",
    "\n",
    "    if source == 'Bloomberg':\n",
    "        vendor_ticker = 'EURUSD BGN Curncy'\n",
    "    elif source == 'CSV':\n",
    "        vendor_ticker = 'EURUSD'\n",
    "        csv_file = 'EURUSD.csv'\n",
    "\n",
    "    spot = data_downloader.download_time_series(vendor_ticker, ticker, start_date, source, csv_file = csv_file, freq = freq)"
   ]
  },
  {
   "cell_type": "markdown",
   "metadata": {},
   "source": [
    "With the data downloaded, we can do our computation. We first downsample the data into the correct frequency (1 min, ..., 60 mins). Once this is done, we calculate spot returns. The overnight rolling realised volatility is then calculated (ie. over the past 24 hour window). We annualise the volatility we calculate, as is general market practice. If we are annualising realised volatility calculated using a 1 minute window, we need to multiply by the square root of 252 * 1440 (given there are 252 business days in a year and 1440 minutes in every day). This is not necessarily the most \"accurate\" way to annualise volatility, but this approach tends to be most common in the market."
   ]
  },
  {
   "cell_type": "code",
   "execution_count": 8,
   "metadata": {
    "collapsed": true
   },
   "outputs": [],
   "source": [
    "    #### Calculate 1 day realised vol on EUR/USD data from Bloomberg using different data frequency (1 min, ..., 60 min)\n",
    "    minute_freq = [1, 5, 10, 30, 60]\n",
    "\n",
    "    realised_vol = None\n",
    "\n",
    "    for min in minute_freq:\n",
    "        spot_min = spot.loc[spot.index.minute % min == 0]\n",
    "        rets = spot_min / spot_min.shift(1) - 1\n",
    "        realised_vol_min = pandas.rolling_std(rets, 1440.0 / min) * math.sqrt(252.0 * (1440.0 / min)) * 100\n",
    "        realised_vol_min.columns = [str(min) + 'min']\n",
    "        if realised_vol is None: realised_vol = realised_vol_min\n",
    "        else:\n",
    "            realised_vol = realised_vol.join(realised_vol_min, how = 'outer')"
   ]
  },
  {
   "cell_type": "markdown",
   "metadata": {},
   "source": [
    "With the data now computed, the final step is to plot with Plotly. We first reduce the number of point to plot to every hour, to make it quicker to plot. We then set the title and create a Figure object. We use the PlotHelper class to convert the DataFrame into Traces which can be plotted using Plotly."
   ]
  },
  {
   "cell_type": "code",
   "execution_count": 9,
   "metadata": {
    "collapsed": true
   },
   "outputs": [],
   "source": [
    "    # reduce the number of points to plot\n",
    "    realised_vol = realised_vol.loc[realised_vol.index.minute % 60 == 0]\n",
    "\n",
    "    xaxis = 'Date'\n",
    "    yaxis = 'Daily Realised Vol'\n",
    "    source_label = \"Source: @thalesians/BBG\"\n",
    "\n",
    "    # Using varying shades of blue for each line (helped by colorlover library)\n",
    "\n",
    "    title = ticker + ' Realised Vol 1D Window' + '<BR>' + source_label\n",
    "    realised_vol.index = pandas.to_datetime(realised_vol.index.values)\n",
    "\n",
    "    # also apply graduated color scheme of blues (from light to dark)\n",
    "    # see httF://moderndata.plot.ly/color-scales-in-ipython-notebook/ for details on colorlover package\n",
    "    # which allows you to set scales\n",
    "    fig = Figure(data = plot_helper.convert_df_plotly(realised_vol, gradcolor = 'Blues', addmarker=False),\n",
    "                 layout = plot_helper.create_layout(title, xaxis, yaxis),\n",
    "    )"
   ]
  },
  {
   "cell_type": "markdown",
   "metadata": {},
   "source": [
    "Finally, we set the filename and display the plot by calling the iplot function. We find that generally speaking the higher the frequency of data, the higher the volatility we calculate. At frequencies such as 1 minute, we also face problems related to what is known as the bid/ask bounce."
   ]
  },
  {
   "cell_type": "code",
   "execution_count": 10,
   "metadata": {
    "collapsed": false
   },
   "outputs": [
    {
     "data": {
      "text/html": [
       "<iframe id=\"igraph\" scrolling=\"no\" style=\"border:none;\"seamless=\"seamless\" src=\"https://plot.ly/~thalesians/770.embed\" height=\"525\" width=\"100%\"></iframe>"
      ],
      "text/plain": [
       "<plotly.tools.PlotlyDisplay object>"
      ]
     },
     "execution_count": 10,
     "metadata": {},
     "output_type": "execute_result"
    }
   ],
   "source": [
    "    filename = 'realised-vol-freq-' + str(ticker) + str(postfix)\n",
    "    py.iplot(fig, filename = filename)"
   ]
  },
  {
   "cell_type": "markdown",
   "metadata": {},
   "source": [
    "#### Comparing realised and implied volatility"
   ]
  },
  {
   "cell_type": "markdown",
   "metadata": {},
   "source": [
    "We now do a different volatility study, which involves looking at S&P500 and VIX. We calculate the realised volatility of S&P500 comparing it to VIX, which is a measure of implied volatility on S&P500 (VIX takes different parts of the implied vol curve for options written on S&P500). We can think of implied volatility as the market's expectation for future realised volatility. We need to load data to begin with, to start our analysis. In this instance, we shall use Yahoo to download data, again using our DataDownloader class. We look at the past year of data."
   ]
  },
  {
   "cell_type": "code",
   "execution_count": 11,
   "metadata": {
    "collapsed": true
   },
   "outputs": [],
   "source": [
    "    #### Calculate Realised Vol on S&P500 data from Yahoo and compare with VIX index\n",
    "    source = 'Yahoo'\n",
    "\n",
    "    start_date = datetime.datetime.utcnow() - timedelta(days = 365)\n",
    "    spx = data_downloader.download_time_series('^GSPC', 'S&P500', start_date, source)\n",
    "    vix = data_downloader.download_time_series('^VIX', 'VIX', start_date, source)"
   ]
  },
  {
   "cell_type": "markdown",
   "metadata": {},
   "source": [
    "Now the data is loaded in Pandas dataframe, we calculate the 1M rolling realised volatility on S&P500. We shift it back 20 working days (approximately a month), so the implied volatility (VIX) and realised volatility are aligned, over the same period of time. Strictly speaking, we should take into account a holiday calendar to do this more accurately."
   ]
  },
  {
   "cell_type": "code",
   "execution_count": 12,
   "metadata": {
    "collapsed": true
   },
   "outputs": [],
   "source": [
    "    # calculate realised vol on S&P500 (and shift it to be aligned to VIX - implied vol)\n",
    "    spx_realised_vol = pandas.rolling_std(spx / spx.shift(1) - 1, 20) * math.sqrt(252) * 100\n",
    "    spx_realised_vol = spx_realised_vol.shift(-20)\n",
    "\n",
    "    vol = spx_realised_vol.join(vix, how = 'outer')"
   ]
  },
  {
   "cell_type": "markdown",
   "metadata": {},
   "source": [
    "We now plot the two lines using Plotly! We see that generally speaking VIX is higher than S&P500. This difference is known as the volatility risk premium. Given that implied volatility is the market's expectation for future realised volatility, it is an unknown quantity. The risk premium is there because of this, to compensate selling of this \"insurance\". When people sell options, they are trying to harvest this premium. Whilst, this might generally be a profitable strategy, during market crisis, it can have quite sizable drawdowns. During market crises, realised volatility often ends up being much higher then implied volatility."
   ]
  },
  {
   "cell_type": "code",
   "execution_count": 13,
   "metadata": {
    "collapsed": false
   },
   "outputs": [
    {
     "data": {
      "text/html": [
       "<iframe id=\"igraph\" scrolling=\"no\" style=\"border:none;\"seamless=\"seamless\" src=\"https://plot.ly/~thalesians/772.embed\" height=\"525\" width=\"100%\"></iframe>"
      ],
      "text/plain": [
       "<plotly.tools.PlotlyDisplay object>"
      ]
     },
     "execution_count": 13,
     "metadata": {},
     "output_type": "execute_result"
    }
   ],
   "source": [
    "    source_label = \"Source: @thalesians/Yahoo\"\n",
    "    title = \"Comparing S&P500 1M realised vol with VIX\" + '<BR>' + source_label\n",
    "    xaxis = 'Date'\n",
    "    yaxis = 'Vol'\n",
    "\n",
    "    fig = Figure(data = plot_helper.convert_df_plotly(vol, addmarker = True),\n",
    "                 layout = plot_helper.create_layout(title, xaxis, yaxis),\n",
    "    )\n",
    "\n",
    "    py.iplot(fig, filename = 'sp500-vix-comparison-' + str(postfix))"
   ]
  },
  {
   "cell_type": "markdown",
   "metadata": {},
   "source": [
    "### Now for something completely different (kind of!) - streaming FX charts with Plotly"
   ]
  },
  {
   "cell_type": "markdown",
   "metadata": {},
   "source": [
    "Here we take a break from volatility and instead focus on something totally different, plotting live data! We shall use Yahoo as our datasource for live EUR/USD spot data. We have used FX markets, because well, I like FX (worked in FX markets for a decade!) and also because the market is open for a large amount of the the week (from Sunday evening to Friday evening). Obviously, if you run this code during the weekend, when there are no live prices, it won't be that exciting! We shall be using the live quote function from the DataDownloader class which we wrote earlier. \n"
   ]
  },
  {
   "cell_type": "markdown",
   "metadata": {},
   "source": [
    "Below, we show an animated GIF of the chart in action, which we have prerun to illustrate what the output should look like. We've cropped it to focus on the moving chart."
   ]
  },
  {
   "cell_type": "code",
   "execution_count": 14,
   "metadata": {
    "collapsed": false
   },
   "outputs": [
    {
     "data": {
      "text/html": [
       "<img src=\"http://imgur.com/cf9oM8H.gif\" width=\"700\"/>"
      ],
      "text/plain": [
       "<IPython.core.display.Image object>"
      ]
     },
     "execution_count": 14,
     "metadata": {},
     "output_type": "execute_result"
    }
   ],
   "source": [
    "from IPython.display import Image\n",
    "Image(url='http://imgur.com/cf9oM8H.gif', width=700)"
   ]
  },
  {
   "cell_type": "markdown",
   "metadata": {},
   "source": [
    "As a first step, we set our Plotly credentials, including our stream ID. You can get your API key and stream ID from the Plotly website (URLs are listed below in the code)."
   ]
  },
  {
   "cell_type": "code",
   "execution_count": 15,
   "metadata": {
    "collapsed": true
   },
   "outputs": [],
   "source": [
    "# for dates\n",
    "import datetime\n",
    "import time\n",
    "\n",
    "# for plotting data\n",
    "import plotly\n",
    "import plotly.plotly as py\n",
    "from plotly.graph_objs import *\n",
    "\n",
    "postfix = \"prod\"\n",
    "\n",
    "def streaming_fx_study():\n",
    "\n",
    "    # Learn about API authentication here: https://plot.ly/python/getting-started\n",
    "    # Find your api_key here: https://plot.ly/settings/api\n",
    "    plotly_username = \"thalesians\"\n",
    "    plotly_api_key = \"8f18dbgilh\"\n",
    "    \n",
    "    plotly.tools.set_credentials_file(username=plotly_username, api_key=plotly_api_key)"
   ]
  },
  {
   "cell_type": "markdown",
   "metadata": {},
   "source": [
    "The next step is to create the various elements of our plot. We have used a similar template to write our code as [here](https://plot.ly/python/streaming-line-tutorial/). We assume that our streaming plot will run for 120 seconds / 120 updates (you can obviously change this, although be aware that having too many point in a plot will make it slow to update). We then create our stream (we need to pass our stream ID for this). Once that is done we create a Scatter object which at present will have no data in it, and then the Layout and finally the Figure object."
   ]
  },
  {
   "cell_type": "code",
   "execution_count": 16,
   "metadata": {
    "collapsed": false
   },
   "outputs": [],
   "source": [
    "    # Learn about stream id here at: http://help.plot.ly/documentation/python/streaming-tutorial/\n",
    "    # Find your stream_id here: https://plot.ly/settings/api\n",
    "    stream_id = \"murp1zhvit\"\n",
    "    \n",
    "    # Code below based on https://plot.ly/python/streaming-line-tutorial/\n",
    "    max_points = 120\n",
    "\n",
    "    data_downloader = DataDownloader()\n",
    "\n",
    "    ticker = 'EURUSD'; vendor_ticker = 'EURUSD=X'\n",
    "\n",
    "    # Make instance of stream id object\n",
    "    stream = plotly.graph_objs.Stream(\n",
    "            token = stream_id,            # (!) link stream id to 'token' key\n",
    "            maxpoints = max_points        # (!) keep a max of 80 pts on screen\n",
    "    )\n",
    "\n",
    "    trace1 = plotly.graph_objs.Scatter(\n",
    "        x = [],\n",
    "        y = [],\n",
    "        mode = 'lines',\n",
    "        stream = stream            # (!) embed stream id, 1 per trace\n",
    "    )"
   ]
  },
  {
   "cell_type": "markdown",
   "metadata": {},
   "source": [
    "We can now send our Figure object to Plotly."
   ]
  },
  {
   "cell_type": "code",
   "execution_count": 17,
   "metadata": {
    "collapsed": false
   },
   "outputs": [
    {
     "data": {
      "text/html": [
       "<iframe id=\"igraph\" scrolling=\"no\" style=\"border:none;\"seamless=\"seamless\" src=\"https://plot.ly/~thalesians/767.embed\" height=\"525\" width=\"100%\"></iframe>"
      ],
      "text/plain": [
       "<plotly.tools.PlotlyDisplay object>"
      ]
     },
     "execution_count": 17,
     "metadata": {},
     "output_type": "execute_result"
    }
   ],
   "source": [
    "    data = Data([trace1])\n",
    "    source_label = \"Source: @thalesians/Yahoo\"\n",
    "    title = ticker + '<BR>' + source_label\n",
    "    \n",
    "    # Add title to layout object\n",
    "    layout = Layout(title = title)\n",
    "\n",
    "    # Make a figure object\n",
    "    fig = Figure(data = data, layout = layout)\n",
    "\n",
    "    # Send fig to Plotly, initialize streaming plot, open new tab\n",
    "    py.iplot(fig, filename=ticker + \"-stream\" + postfix)"
   ]
  },
  {
   "cell_type": "markdown",
   "metadata": {},
   "source": [
    "We then open up a stream to Plotly. Every second we read in a live quote from Yahoo and then push it to the stream object. If we run this outside of FX market hours, it won't be that exciting! Also, obviously, this graph will only update whilst, we are pushing day to it. Whilst, we have used Yahoo, you of course use any other data source for which you have the appropriate licence."
   ]
  },
  {
   "cell_type": "code",
   "execution_count": 18,
   "metadata": {
    "collapsed": false
   },
   "outputs": [],
   "source": [
    "    # Make instance of the Stream link object, with same stream id as Stream id object\n",
    "    s = py.Stream(stream_id)\n",
    "\n",
    "    # Open the stream\n",
    "    s.open()\n",
    "\n",
    "    #### Grab live FX prices from Yahoo & plot point by point\n",
    "    #### till termination\n",
    "    passes = 0\n",
    "    \n",
    "    while passes < max_points:\n",
    "        x = datetime.datetime.now().strftime('%Y-%m-%d %H:%M:%S.%f')\n",
    "\n",
    "        try:\n",
    "            y = data_downloader.download_live_quote(vendor_ticker, 'Yahoo')\n",
    "            s.write(dict(x = x, y = y))\n",
    "        except: pass\n",
    "\n",
    "        time.sleep(1)   # sleep for 1 second\n",
    "        passes = passes + 1"
   ]
  },
  {
   "cell_type": "markdown",
   "metadata": {},
   "source": [
    "### Biography\n",
    "\n",
    "Saeed Amen is the managing director and co-founder of the Thalesians. He has a decade of experience creating and successfully running systematic trading models at Lehman Brothers, Nomura and now at the Thalesians. Independently, he runs a systematic trading model with proprietary capital. He is the author of Trading Thalesians – What the ancient world can teach us about trading today (Palgrave Macmillan). He graduated with a first class honours master’s degree from Imperial College in Mathematics & Computer Science. He is also a fan of Python and has written an extensive library for financial market backtesting called PyThalesians, which is partially open sourced - available on the [Thalesians GitHub page](https://github.com/thalesians)\n",
    "\n",
    "Follow the Thalesians on Twitter @thalesians and get my book on Amazon [here](http://www.amazon.co.uk/Trading-Thalesians-Saeed-Amen/dp/113739952X). You can also join our Thalesians Meetup.com group [here](http://www.meetup.com/thalesians) - we do quant finance events in a number of cities including London, New York, Budapest, Prague and Frankfurt.\n",
    "\n",
    "The Thalesians website can be found [here](http://www.thalesians.com)."
   ]
  }
 ],
 "metadata": {
  "kernelspec": {
   "display_name": "Python 2",
   "language": "python",
   "name": "python2"
  },
  "language_info": {
   "codemirror_mode": {
    "name": "ipython",
    "version": 2
   },
   "file_extension": ".py",
   "mimetype": "text/x-python",
   "name": "python",
   "nbconvert_exporter": "python",
   "pygments_lexer": "ipython2",
   "version": "2.7.9"
  }
 },
 "nbformat": 4,
 "nbformat_minor": 0
}
